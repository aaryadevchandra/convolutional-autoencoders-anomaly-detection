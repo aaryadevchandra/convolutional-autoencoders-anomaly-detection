{
  "cells": [
    {
      "cell_type": "code",
      "source": [],
      "metadata": {
        "id": "1iyNPARp5R6P"
      },
      "id": "1iyNPARp5R6P",
      "execution_count": null,
      "outputs": []
    },
    {
      "cell_type": "code",
      "source": [
        "!pip install wandb"
      ],
      "metadata": {
        "colab": {
          "base_uri": "https://localhost:8080/"
        },
        "id": "_525ClLcx2y0",
        "outputId": "06406e6e-32ff-49ad-955f-e844058fbaf5"
      },
      "id": "_525ClLcx2y0",
      "execution_count": 1,
      "outputs": [
        {
          "output_type": "stream",
          "name": "stdout",
          "text": [
            "Requirement already satisfied: wandb in /usr/local/lib/python3.10/dist-packages (0.17.3)\n",
            "Requirement already satisfied: click!=8.0.0,>=7.1 in /usr/local/lib/python3.10/dist-packages (from wandb) (8.1.7)\n",
            "Requirement already satisfied: docker-pycreds>=0.4.0 in /usr/local/lib/python3.10/dist-packages (from wandb) (0.4.0)\n",
            "Requirement already satisfied: gitpython!=3.1.29,>=1.0.0 in /usr/local/lib/python3.10/dist-packages (from wandb) (3.1.43)\n",
            "Requirement already satisfied: platformdirs in /usr/local/lib/python3.10/dist-packages (from wandb) (4.2.2)\n",
            "Requirement already satisfied: protobuf!=4.21.0,<6,>=3.19.0 in /usr/local/lib/python3.10/dist-packages (from wandb) (3.20.3)\n",
            "Requirement already satisfied: psutil>=5.0.0 in /usr/local/lib/python3.10/dist-packages (from wandb) (5.9.5)\n",
            "Requirement already satisfied: pyyaml in /usr/local/lib/python3.10/dist-packages (from wandb) (6.0.1)\n",
            "Requirement already satisfied: requests<3,>=2.0.0 in /usr/local/lib/python3.10/dist-packages (from wandb) (2.31.0)\n",
            "Requirement already satisfied: sentry-sdk>=1.0.0 in /usr/local/lib/python3.10/dist-packages (from wandb) (2.7.1)\n",
            "Requirement already satisfied: setproctitle in /usr/local/lib/python3.10/dist-packages (from wandb) (1.3.3)\n",
            "Requirement already satisfied: setuptools in /usr/local/lib/python3.10/dist-packages (from wandb) (67.7.2)\n",
            "Requirement already satisfied: six>=1.4.0 in /usr/local/lib/python3.10/dist-packages (from docker-pycreds>=0.4.0->wandb) (1.16.0)\n",
            "Requirement already satisfied: gitdb<5,>=4.0.1 in /usr/local/lib/python3.10/dist-packages (from gitpython!=3.1.29,>=1.0.0->wandb) (4.0.11)\n",
            "Requirement already satisfied: charset-normalizer<4,>=2 in /usr/local/lib/python3.10/dist-packages (from requests<3,>=2.0.0->wandb) (3.3.2)\n",
            "Requirement already satisfied: idna<4,>=2.5 in /usr/local/lib/python3.10/dist-packages (from requests<3,>=2.0.0->wandb) (3.7)\n",
            "Requirement already satisfied: urllib3<3,>=1.21.1 in /usr/local/lib/python3.10/dist-packages (from requests<3,>=2.0.0->wandb) (2.0.7)\n",
            "Requirement already satisfied: certifi>=2017.4.17 in /usr/local/lib/python3.10/dist-packages (from requests<3,>=2.0.0->wandb) (2024.6.2)\n",
            "Requirement already satisfied: smmap<6,>=3.0.1 in /usr/local/lib/python3.10/dist-packages (from gitdb<5,>=4.0.1->gitpython!=3.1.29,>=1.0.0->wandb) (5.0.1)\n"
          ]
        }
      ]
    },
    {
      "cell_type": "code",
      "execution_count": 2,
      "id": "def0889c-e6b1-4426-88c1-3a650dfebe1d",
      "metadata": {
        "id": "def0889c-e6b1-4426-88c1-3a650dfebe1d"
      },
      "outputs": [],
      "source": [
        "import torch\n",
        "from torch import nn\n",
        "import numpy as np\n",
        "import pandas as pd\n",
        "import matplotlib.pyplot as plt\n",
        "import glob\n",
        "import cv2\n",
        "from torchvision import datasets, transforms\n",
        "import wandb\n",
        "from torch.utils.data import DataLoader\n",
        "import tqdm"
      ]
    },
    {
      "cell_type": "code",
      "execution_count": 3,
      "id": "7cbdbcd5-b061-4c47-8cd2-77d1fcd76fd8",
      "metadata": {
        "colab": {
          "base_uri": "https://localhost:8080/",
          "height": 145
        },
        "id": "7cbdbcd5-b061-4c47-8cd2-77d1fcd76fd8",
        "outputId": "399ae1a8-8cbb-49cd-d46e-ff91c1e71566"
      },
      "outputs": [
        {
          "output_type": "stream",
          "name": "stderr",
          "text": [
            "\u001b[34m\u001b[1mwandb\u001b[0m: Currently logged in as: \u001b[33maaryadev\u001b[0m. Use \u001b[1m`wandb login --relogin`\u001b[0m to force relogin\n"
          ]
        },
        {
          "output_type": "display_data",
          "data": {
            "text/plain": [
              "<IPython.core.display.HTML object>"
            ],
            "text/html": [
              "Tracking run with wandb version 0.17.3"
            ]
          },
          "metadata": {}
        },
        {
          "output_type": "display_data",
          "data": {
            "text/plain": [
              "<IPython.core.display.HTML object>"
            ],
            "text/html": [
              "Run data is saved locally in <code>/content/wandb/run-20240628_090708-hr0nnn9h</code>"
            ]
          },
          "metadata": {}
        },
        {
          "output_type": "display_data",
          "data": {
            "text/plain": [
              "<IPython.core.display.HTML object>"
            ],
            "text/html": [
              "Syncing run <strong><a href='https://wandb.ai/aaryadev/marble-anomaly-detection/runs/hr0nnn9h' target=\"_blank\">prime-salad-8</a></strong> to <a href='https://wandb.ai/aaryadev/marble-anomaly-detection' target=\"_blank\">Weights & Biases</a> (<a href='https://wandb.me/run' target=\"_blank\">docs</a>)<br/>"
            ]
          },
          "metadata": {}
        },
        {
          "output_type": "display_data",
          "data": {
            "text/plain": [
              "<IPython.core.display.HTML object>"
            ],
            "text/html": [
              " View project at <a href='https://wandb.ai/aaryadev/marble-anomaly-detection' target=\"_blank\">https://wandb.ai/aaryadev/marble-anomaly-detection</a>"
            ]
          },
          "metadata": {}
        },
        {
          "output_type": "display_data",
          "data": {
            "text/plain": [
              "<IPython.core.display.HTML object>"
            ],
            "text/html": [
              " View run at <a href='https://wandb.ai/aaryadev/marble-anomaly-detection/runs/hr0nnn9h' target=\"_blank\">https://wandb.ai/aaryadev/marble-anomaly-detection/runs/hr0nnn9h</a>"
            ]
          },
          "metadata": {}
        },
        {
          "output_type": "execute_result",
          "data": {
            "text/html": [
              "<button onClick=\"this.nextSibling.style.display='block';this.style.display='none';\">Display W&B run</button><iframe src='https://wandb.ai/aaryadev/marble-anomaly-detection/runs/hr0nnn9h?jupyter=true' style='border:none;width:100%;height:420px;display:none;'></iframe>"
            ],
            "text/plain": [
              "<wandb.sdk.wandb_run.Run at 0x787b7c63c4f0>"
            ]
          },
          "metadata": {},
          "execution_count": 3
        }
      ],
      "source": [
        "wandb.init(\n",
        "    # set the wandb project where this run will be logged\n",
        "    project=\"marble-anomaly-detection\",\n",
        "\n",
        "    # track hyperparameters and run metadata\n",
        "    config={\n",
        "    \"learning_rate\": \"3e-4\",\n",
        "    \"architecture\": \"Autoencoder\",\n",
        "    \"dataset\": \"https://www.kaggle.com/datasets/wardaddy24/marble-surface-anomaly-detection-2\",\n",
        "    \"epochs\": 10,\n",
        "    }\n",
        ")"
      ]
    },
    {
      "cell_type": "code",
      "source": [
        "from google.colab import drive\n",
        "drive.mount('/content/drive')"
      ],
      "metadata": {
        "colab": {
          "base_uri": "https://localhost:8080/"
        },
        "id": "5dr3XtiwxwK0",
        "outputId": "6276293e-8fb7-4e8d-bdaf-a58ccaf3f777"
      },
      "id": "5dr3XtiwxwK0",
      "execution_count": 4,
      "outputs": [
        {
          "output_type": "stream",
          "name": "stdout",
          "text": [
            "Drive already mounted at /content/drive; to attempt to forcibly remount, call drive.mount(\"/content/drive\", force_remount=True).\n"
          ]
        }
      ]
    },
    {
      "cell_type": "code",
      "source": [
        "!unzip /content/drive/MyDrive/learning\\ machine\\ learning/marble2.zip"
      ],
      "metadata": {
        "colab": {
          "base_uri": "https://localhost:8080/"
        },
        "collapsed": true,
        "id": "J4ANglfsx1bj",
        "outputId": "427fcf06-4cc4-41fc-b9af-12d333067e4e"
      },
      "id": "J4ANglfsx1bj",
      "execution_count": 5,
      "outputs": [
        {
          "output_type": "stream",
          "name": "stdout",
          "text": [
            "Archive:  /content/drive/MyDrive/learning machine learning/marble2.zip\n",
            "replace marble2/.DS_Store? [y]es, [n]o, [A]ll, [N]one, [r]ename: N\n"
          ]
        }
      ]
    },
    {
      "cell_type": "markdown",
      "source": [
        "### Convolutional Autoencoder Network Definition"
      ],
      "metadata": {
        "id": "6HnrUGbXHQFC"
      },
      "id": "6HnrUGbXHQFC"
    },
    {
      "cell_type": "code",
      "execution_count": 6,
      "id": "b6c43384-c3c3-40d7-b469-ff00bc736f5c",
      "metadata": {
        "id": "b6c43384-c3c3-40d7-b469-ff00bc736f5c"
      },
      "outputs": [],
      "source": [
        "class Autoencoder(nn.Module):\n",
        "    def __init__(self):\n",
        "        super(Autoencoder, self).__init__()\n",
        "\n",
        "        self.encoder = nn.Sequential(\n",
        "            nn.Conv2d(3, 16, kernel_size=3, stride=2, padding=1),\n",
        "            nn.LeakyReLU(),\n",
        "            nn.Conv2d(16, 32, kernel_size=3, stride=2, padding=1),\n",
        "            nn.LeakyReLU(),\n",
        "            nn.Conv2d(32, 64, kernel_size=7)\n",
        "        )\n",
        "\n",
        "        self.decoder = nn.Sequential(\n",
        "            nn.ConvTranspose2d(64, 32, kernel_size=7),\n",
        "            nn.LeakyReLU(),\n",
        "            nn.ConvTranspose2d(32, 16, kernel_size=3, stride=2, padding=1, output_padding=1),\n",
        "            nn.LeakyReLU(),\n",
        "            nn.ConvTranspose2d(16, 3, kernel_size=3, stride=2, padding=1, output_padding=1),\n",
        "            nn.Sigmoid()\n",
        "        )\n",
        "\n",
        "    def forward(self, x):\n",
        "        batch_size = x.shape[0]\n",
        "        x = self.encoder(x)\n",
        "        x = self.decoder(x)\n",
        "\n",
        "        return x.reshape(batch_size, -1)\n"
      ]
    },
    {
      "cell_type": "code",
      "execution_count": 7,
      "id": "1ca9aa27-d12d-4eb1-b7bf-d41c7fb50a21",
      "metadata": {
        "id": "1ca9aa27-d12d-4eb1-b7bf-d41c7fb50a21"
      },
      "outputs": [],
      "source": [
        "ae = Autoencoder()"
      ]
    },
    {
      "cell_type": "code",
      "execution_count": 8,
      "id": "3c7b45ed-7dad-4f98-8392-c0e92a28380a",
      "metadata": {
        "id": "3c7b45ed-7dad-4f98-8392-c0e92a28380a"
      },
      "outputs": [],
      "source": [
        "loss_fn = nn.MSELoss() # l2 norm loss\n",
        "optimizer = torch.optim.Adam(ae.parameters(), lr=3e-4)"
      ]
    },
    {
      "cell_type": "code",
      "execution_count": 9,
      "id": "de97c011-49ab-4928-8423-243c6d0f3e58",
      "metadata": {
        "id": "de97c011-49ab-4928-8423-243c6d0f3e58"
      },
      "outputs": [],
      "source": [
        "# converting images to tensors, and normalizing for better gradient flow\n",
        "transform = transforms.Compose(\n",
        "    [transforms.ToTensor(),\n",
        "    transforms.Normalize(0.5, 0.5)]\n",
        ")"
      ]
    },
    {
      "cell_type": "markdown",
      "source": [
        "### Creating dataset with good marble samples and loading it for batch training"
      ],
      "metadata": {
        "id": "fxt-3pn3GEJZ"
      },
      "id": "fxt-3pn3GEJZ"
    },
    {
      "cell_type": "code",
      "execution_count": 10,
      "id": "ca962cfd-85b7-446d-a064-881d32ca5e91",
      "metadata": {
        "id": "ca962cfd-85b7-446d-a064-881d32ca5e91"
      },
      "outputs": [],
      "source": [
        "train_dataset = datasets.ImageFolder('./marble2/train/', transform=transform)\n",
        "train_loader = DataLoader(train_dataset, batch_size=32, shuffle=True)"
      ]
    },
    {
      "cell_type": "code",
      "execution_count": 11,
      "id": "17bb4996-1856-4ea0-a364-234d19567b3f",
      "metadata": {
        "colab": {
          "base_uri": "https://localhost:8080/"
        },
        "id": "17bb4996-1856-4ea0-a364-234d19567b3f",
        "outputId": "76f300ad-ddbf-44a9-d33f-9025e54ed3b3"
      },
      "outputs": [
        {
          "output_type": "stream",
          "name": "stderr",
          "text": [
            "100%|██████████| 10/10 [00:48<00:00,  4.82s/it]\n"
          ]
        }
      ],
      "source": [
        "epochs = 10\n",
        "for _ in tqdm.tqdm(range(epochs)):\n",
        "    epoch_loss = 0\n",
        "    for i, data in enumerate(train_loader, 0):\n",
        "        inputs, labels = data\n",
        "        loss = loss_fn(ae(inputs), inputs.reshape(inputs.shape[0], -1))\n",
        "        wandb.log({\"loss\": loss})\n",
        "        loss.backward()\n",
        "        optimizer.step()\n",
        "        optimizer.zero_grad()\n",
        "        epoch_loss += loss\n",
        "    epoch_loss /= train_loader.batch_size"
      ]
    },
    {
      "cell_type": "markdown",
      "source": [
        "### Loading anomalous marbles dataset"
      ],
      "metadata": {
        "id": "Gc55sVtJFIAt"
      },
      "id": "Gc55sVtJFIAt"
    },
    {
      "cell_type": "code",
      "execution_count": 12,
      "id": "8cea5751-9795-41e4-aaf3-2499eff1aff9",
      "metadata": {
        "id": "8cea5751-9795-41e4-aaf3-2499eff1aff9"
      },
      "outputs": [],
      "source": [
        "test_dataset = datasets.ImageFolder('./marble2/test/', transform=transform)"
      ]
    },
    {
      "cell_type": "code",
      "execution_count": 13,
      "id": "dff4ab76-fdfe-4dfe-b941-54344c1c34c2",
      "metadata": {
        "colab": {
          "base_uri": "https://localhost:8080/"
        },
        "id": "dff4ab76-fdfe-4dfe-b941-54344c1c34c2",
        "outputId": "5a958f92-0816-4c8f-97a5-ab6c2d94402b"
      },
      "outputs": [
        {
          "output_type": "execute_result",
          "data": {
            "text/plain": [
              "torch.Size([3, 256, 256])"
            ]
          },
          "metadata": {},
          "execution_count": 13
        }
      ],
      "source": [
        "# checking integrity of first sample by probing shape\n",
        "test_dataset[0][0].shape"
      ]
    },
    {
      "cell_type": "markdown",
      "source": [
        "### Testing reconstruction loss value on a single anomalous sample"
      ],
      "metadata": {
        "id": "p2mleiMiEygN"
      },
      "id": "p2mleiMiEygN"
    },
    {
      "cell_type": "code",
      "source": [
        "# The reconstruction loss we achieve on a defective marble piece is an order of magnitude higher\n",
        "# than a good sample\n",
        "loss_fn(ae(test_dataset[0][0].reshape(1, 3, 256, 256)), test_dataset[0][0].reshape(1, -1))"
      ],
      "metadata": {
        "colab": {
          "base_uri": "https://localhost:8080/"
        },
        "id": "OcvL4aepA6lq",
        "outputId": "4c7c86bd-2fab-4035-9b9a-e9c5dd8dba88"
      },
      "id": "OcvL4aepA6lq",
      "execution_count": 14,
      "outputs": [
        {
          "output_type": "execute_result",
          "data": {
            "text/plain": [
              "tensor(0.0774, grad_fn=<MseLossBackward0>)"
            ]
          },
          "metadata": {},
          "execution_count": 14
        }
      ]
    },
    {
      "cell_type": "markdown",
      "source": [
        "## Calculating average reconstruction loss for good samples and anomalies"
      ],
      "metadata": {
        "id": "MAcccNW9EMET"
      },
      "id": "MAcccNW9EMET"
    },
    {
      "cell_type": "code",
      "source": [
        "train_losses = []\n",
        "test_losses = []\n",
        "for i in range(len(train_dataset)):\n",
        "  # calculating loss for each defective marble sample\n",
        "  test_loss = loss_fn(ae(test_dataset[i][0].reshape(1, 3, 256, 256)), test_dataset[i][0].reshape(1, -1))\n",
        "  test_losses.append(test_loss)\n",
        "\n",
        "  # calculating loss for each good marble sample\n",
        "  train_loss = loss_fn(ae(train_dataset[i][0].reshape(1, 3, 256, 256)), train_dataset[i][0].reshape(1, -1))\n",
        "  train_losses.append(train_loss)\n"
      ],
      "metadata": {
        "id": "AnKR_2aBCzTD"
      },
      "id": "AnKR_2aBCzTD",
      "execution_count": 15,
      "outputs": []
    },
    {
      "cell_type": "code",
      "source": [
        "# converting losses to numpy arrays since\n",
        "# since list of tensors cannot be plotted\n",
        "train_losses2 = [loss.detach().numpy() for loss in train_losses]\n",
        "test_losses2 = [loss.detach().numpy() for loss in test_losses]"
      ],
      "metadata": {
        "id": "YjYKFXlOBr-i"
      },
      "id": "YjYKFXlOBr-i",
      "execution_count": 16,
      "outputs": []
    },
    {
      "cell_type": "code",
      "source": [
        "# average reconstruction loss for a good marble\n",
        "np.mean(train_losses2)"
      ],
      "metadata": {
        "colab": {
          "base_uri": "https://localhost:8080/"
        },
        "id": "FdndrNZrDU4A",
        "outputId": "92da09f9-164b-4927-dd4c-47878ad24af4"
      },
      "id": "FdndrNZrDU4A",
      "execution_count": 17,
      "outputs": [
        {
          "output_type": "execute_result",
          "data": {
            "text/plain": [
              "0.0029177903"
            ]
          },
          "metadata": {},
          "execution_count": 17
        }
      ]
    },
    {
      "cell_type": "code",
      "source": [
        "# average reconstruction loss for an anomalous marble\n",
        "np.mean(test_losses2)"
      ],
      "metadata": {
        "colab": {
          "base_uri": "https://localhost:8080/"
        },
        "id": "i3ZCZCMLDb-i",
        "outputId": "a1a55984-ac20-4889-e886-c7286272e9bf"
      },
      "id": "i3ZCZCMLDb-i",
      "execution_count": 18,
      "outputs": [
        {
          "output_type": "execute_result",
          "data": {
            "text/plain": [
              "0.035457544"
            ]
          },
          "metadata": {},
          "execution_count": 18
        }
      ]
    },
    {
      "cell_type": "code",
      "source": [
        "# plotting reconstruction loss for good and defective marbles on the same plot for convenience\n",
        "plt.figure(figsize=(10, 6))\n",
        "\n",
        "plt.plot(train_losses2, label='Good', color='blue')\n",
        "plt.plot(test_losses2, label='Defective', color='red')\n",
        "\n",
        "plt.title('Reconstruction Loss in Good Marbles and Defective Marbles')\n",
        "plt.xlabel('Marble Samples (Good / Defective)')\n",
        "plt.ylabel('Reconstruction Loss')\n",
        "\n",
        "plt.legend()\n",
        "plt.grid()\n",
        "plt.show()\n"
      ],
      "metadata": {
        "colab": {
          "base_uri": "https://localhost:8080/",
          "height": 564
        },
        "id": "ztCUdVTGD2wV",
        "outputId": "03293d75-61ab-4199-df41-9782e234b49e"
      },
      "id": "ztCUdVTGD2wV",
      "execution_count": 19,
      "outputs": [
        {
          "output_type": "display_data",
          "data": {
            "text/plain": [
              "<Figure size 1000x600 with 1 Axes>"
            ],
            "image/png": "[encoded data removed]"
          },
          "metadata": {}
        }
      ]
    },
    {
      "cell_type": "code",
      "source": [],
      "metadata": {
        "id": "2j1nUQh2EWpG"
      },
      "id": "2j1nUQh2EWpG",
      "execution_count": 19,
      "outputs": []
    }
  ],
  "metadata": {
    "kernelspec": {
      "display_name": "Python 3",
      "name": "python3"
    },
    "language_info": {
      "codemirror_mode": {
        "name": "ipython",
        "version": 3
      },
      "file_extension": ".py",
      "mimetype": "text/x-python",
      "name": "python",
      "nbconvert_exporter": "python",
      "pygments_lexer": "ipython3",
      "version": "3.9.6"
    },
    "colab": {
      "provenance": [],
      "machine_shape": "hm",
      "gpuType": "V28"
    },
    "accelerator": "TPU"
  },
  "nbformat": 4,
  "nbformat_minor": 5
}